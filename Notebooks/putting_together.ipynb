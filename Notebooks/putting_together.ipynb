{
 "cells": [
  {
   "cell_type": "markdown",
   "metadata": {},
   "source": [
    "# Putting it all together"
   ]
  },
  {
   "cell_type": "code",
   "execution_count": 1,
   "metadata": {},
   "outputs": [],
   "source": [
    "# !pip install trulens_eval"
   ]
  },
  {
   "cell_type": "code",
   "execution_count": 66,
   "metadata": {},
   "outputs": [],
   "source": [
    "# #imports\n",
    "# from openai import OpenAI\n",
    "# from glob import glob\n",
    "# from llama_index import download_loader, VectorStoreIndex, ServiceContext\n",
    "# from llama_index.vector_stores import MilvusVectorStore\n",
    "# from llama_index.embeddings import HuggingFaceEmbedding\n",
    "# from llama_index import ServiceContext\n",
    "# from llama_index.llms import PaLM\n",
    "# from llama_index.embeddings import GooglePaLMEmbedding\n",
    "# from llama_index.memory import ChatMemoryBuffer\n",
    "# import numpy as np\n",
    "# from trulens_eval import TruLlama, Tru, Query, Feedback, feedback\n",
    "# import google.generativeai as palm\n",
    "# import os\n",
    "# import subprocess\n",
    "# import sys"
   ]
  },
  {
   "cell_type": "code",
   "execution_count": 1,
   "metadata": {},
   "outputs": [],
   "source": [
    "# !pip install google-cloud-aiplatform\n"
   ]
  },
  {
   "cell_type": "code",
   "execution_count": 3,
   "metadata": {},
   "outputs": [
    {
     "name": "stdout",
     "output_type": "stream",
     "text": [
      "Cloning into 'hydroponics-grow-guide-dataset'...\n",
      "remote: Enumerating objects: 64, done.\u001b[K\n",
      "remote: Counting objects: 100% (64/64), done.\u001b[K\n",
      "remote: Compressing objects: 100% (59/59), done.\u001b[K\n",
      "remote: Total 64 (delta 21), reused 0 (delta 0), pack-reused 0\u001b[K\n",
      "Receiving objects: 100% (64/64), 35.54 KiB | 1.54 MiB/s, done.\n",
      "Resolving deltas: 100% (21/21), done.\n"
     ]
    }
   ],
   "source": [
    "!git clone https://github.com/being-invincible/hydroponics-grow-guide-dataset"
   ]
  },
  {
   "cell_type": "markdown",
   "metadata": {},
   "source": [
    "## Parameters"
   ]
  },
  {
   "cell_type": "code",
   "execution_count": 1,
   "metadata": {},
   "outputs": [],
   "source": [
    "from os import environ\n",
    "\n",
    "# 1. Set up the name of the collection to be created.\n",
    "COLLECTION_NAME = 'hydroponics_knowledge_base'\n",
    "\n",
    "# 2. Set up the dimension of the embeddings.\n",
    "DIMENSION = 1536\n",
    "\n",
    "# 3. Set the inference parameters\n",
    "BATCH_SIZE = 128\n",
    "TOP_K = 3\n",
    "\n",
    "# 4. Set up the connection parameters for your Zilliz Cloud cluster.\n",
    "URI = environ['CLUSTER_ENDPOINT']\n",
    "\n",
    "TOKEN = environ['API_TOKEN']\n",
    "\n",
    "# Palm API\n",
    "palm_api_key = environ['PALM_API_KEY']\n",
    "\n",
    "# OpenAI API key\n",
    "environ[\"OPENAI_API_KEY\"] = environ['OPEN_AI_KEY']\n",
    "# environ[\"TOKENIZERS_PARALLELISM\"] = \"false\""
   ]
  },
  {
   "cell_type": "code",
   "execution_count": 40,
   "metadata": {},
   "outputs": [],
   "source": [
    "# from llama_index.vector_stores import MilvusVectorStore\n",
    "# from llama_index import StorageContext, VectorStoreIndex\n",
    "\n",
    "\n",
    "# vector_store = MilvusVectorStore(\n",
    "#     uri=URI, \n",
    "#     token=TOKEN, \n",
    "#     collection_name=COLLECTION_NAME, \n",
    "#     similarity_metric=\"L2\",\n",
    "#     dim=DIMENSION,\n",
    "# )\n",
    "\n",
    "# storage_context = StorageContext.from_defaults(vector_store=vector_store)"
   ]
  },
  {
   "cell_type": "markdown",
   "metadata": {},
   "source": [
    "## Document Loader"
   ]
  },
  {
   "cell_type": "code",
   "execution_count": 4,
   "metadata": {},
   "outputs": [
    {
     "name": "stdout",
     "output_type": "stream",
     "text": [
      "103\n"
     ]
    }
   ],
   "source": [
    "from llama_index import download_loader\n",
    "from glob import glob\n",
    "\n",
    "# Load the markdown reader from the hub\n",
    "MarkdownReader = download_loader(\"MarkdownReader\")\n",
    "markdownreader = MarkdownReader()\n",
    "\n",
    "# Grab all markdown files and convert them using the reader\n",
    "docs = []\n",
    "for file in glob(\"./hydroponics-grow-guide-dataset/*.md\", recursive=True):\n",
    "    docs.extend(markdownreader.load_data(file=file))\n",
    "print(len(docs))"
   ]
  },
  {
   "cell_type": "markdown",
   "metadata": {},
   "source": [
    "## PaLM Vertex AI"
   ]
  },
  {
   "cell_type": "code",
   "execution_count": 5,
   "metadata": {},
   "outputs": [],
   "source": [
    "import google.generativeai as palm\n",
    "\n",
    "palm.configure(api_key=palm_api_key)"
   ]
  },
  {
   "cell_type": "code",
   "execution_count": 6,
   "metadata": {},
   "outputs": [
    {
     "name": "stdout",
     "output_type": "stream",
     "text": [
      "models/text-bison-001\n"
     ]
    }
   ],
   "source": [
    "models = [\n",
    "    m\n",
    "    for m in palm.list_models()\n",
    "    if \"generateText\" in m.supported_generation_methods\n",
    "]\n",
    "model = models[0].name\n",
    "print(model)"
   ]
  },
  {
   "cell_type": "code",
   "execution_count": 7,
   "metadata": {},
   "outputs": [],
   "source": [
    "from llama_index import ServiceContext\n",
    "from llama_index.llms import PaLM\n",
    "# PaLM(api_key=palm_api_key\n",
    "llm=PaLM(api_key=palm_api_key)"
   ]
  },
  {
   "cell_type": "markdown",
   "metadata": {},
   "source": [
    "## Testing with open source embedding"
   ]
  },
  {
   "cell_type": "code",
   "execution_count": 9,
   "metadata": {},
   "outputs": [],
   "source": [
    "# from llama_index import download_loader, VectorStoreIndex, ServiceContext\n",
    "# from llama_index.vector_stores import MilvusVectorStore\n",
    "# from llama_index.embeddings import HuggingFaceEmbedding\n",
    "\n",
    "# # Push all markdown files into Zilliz Cloud\n",
    "# vector_store = MilvusVectorStore(\n",
    "#     uri=URI, \n",
    "#     token=TOKEN, \n",
    "#     collection_name=COLLECTION_NAME, \n",
    "#     similarity_metric=\"L2\",\n",
    "#     dim=DIMENSION,\n",
    "# )\n",
    "\n",
    "# embed_model = HuggingFaceEmbedding(model_name=\"sentence-transformers/all-MiniLM-L12-v2\")\n",
    "# service_context = ServiceContext.from_defaults(embed_model=embed_model, llm=llm)\n",
    "\n",
    "# index = VectorStoreIndex.from_documents(\n",
    "#     documents=docs, \n",
    "#     service_context=service_context,\n",
    "#     show_progress=True,\n",
    "#     llm=llm\n",
    "# )\n",
    "\n",
    "# print(index.vector_store)"
   ]
  },
  {
   "cell_type": "code",
   "execution_count": 10,
   "metadata": {},
   "outputs": [],
   "source": [
    "from llama_index import download_loader, VectorStoreIndex, ServiceContext\n",
    "from llama_index.vector_stores import MilvusVectorStore"
   ]
  },
  {
   "cell_type": "code",
   "execution_count": 11,
   "metadata": {},
   "outputs": [],
   "source": [
    "# print(service_context)\n",
    "# print(index.service_context)"
   ]
  },
  {
   "cell_type": "markdown",
   "metadata": {},
   "source": [
    "## Using PaLM Embedding & PaLM Text Model"
   ]
  },
  {
   "cell_type": "code",
   "execution_count": 8,
   "metadata": {},
   "outputs": [],
   "source": [
    "from llama_index import ServiceContext\n",
    "from llama_index.llms import PaLM\n",
    "from llama_index.embeddings import GooglePaLMEmbedding\n",
    "\n",
    "# PaLM(api_key=palm_api_key\n",
    "llm=PaLM(api_key=palm_api_key)\n",
    "embed_model = GooglePaLMEmbedding(\"models/embedding-gecko-001\", api_key=palm_api_key)\n",
    "service_context = ServiceContext.from_defaults(llm=llm, embed_model=embed_model)"
   ]
  },
  {
   "cell_type": "code",
   "execution_count": 12,
   "metadata": {},
   "outputs": [
    {
     "data": {
      "application/vnd.jupyter.widget-view+json": {
       "model_id": "47cce509099c4e8193fe61da85416d2d",
       "version_major": 2,
       "version_minor": 0
      },
      "text/plain": [
       "Parsing nodes:   0%|          | 0/103 [00:00<?, ?it/s]"
      ]
     },
     "metadata": {},
     "output_type": "display_data"
    },
    {
     "data": {
      "application/vnd.jupyter.widget-view+json": {
       "model_id": "0523782924594de5be7c89f59e4d395f",
       "version_major": 2,
       "version_minor": 0
      },
      "text/plain": [
       "Generating embeddings:   0%|          | 0/103 [00:00<?, ?it/s]"
      ]
     },
     "metadata": {},
     "output_type": "display_data"
    }
   ],
   "source": [
    "index = VectorStoreIndex.from_documents(\n",
    "    documents=docs, \n",
    "    service_context=service_context,\n",
    "    show_progress=True,\n",
    "    llm=llm\n",
    ")"
   ]
  },
  {
   "cell_type": "markdown",
   "metadata": {},
   "source": [
    "## Loading from Vector DB"
   ]
  },
  {
   "cell_type": "code",
   "execution_count": 51,
   "metadata": {},
   "outputs": [],
   "source": [
    "# from llama_index.vector_stores import MilvusVectorStore\n",
    "# vector_store = MilvusVectorStore(\n",
    "#     uri=URI, \n",
    "#     token=TOKEN, \n",
    "#     collection_name=COLLECTION_NAME, \n",
    "#     similarity_metric=\"L2\",\n",
    "#     dim=DIMENSION,\n",
    "# )\n"
   ]
  },
  {
   "cell_type": "code",
   "execution_count": 52,
   "metadata": {},
   "outputs": [],
   "source": [
    "# from llama_index import VectorStoreIndex\n",
    "# index = VectorStoreIndex.from_documents(\n",
    "#     vector_store=vector_store,\n",
    "#     service_context=service_context,\n",
    "#     documents=\n",
    "\n",
    "\n",
    "# )"
   ]
  },
  {
   "cell_type": "markdown",
   "metadata": {},
   "source": [
    "## Query Engine"
   ]
  },
  {
   "cell_type": "code",
   "execution_count": 13,
   "metadata": {},
   "outputs": [],
   "source": [
    "# # Chat Engine\n",
    "# query_engine = index.as_chat_engine(chat_mode=\"context\",\n",
    "#      verbose=True)\n",
    "# response = query_engine.chat(\"What is greens?\")\n",
    "# print(str(response))"
   ]
  },
  {
   "cell_type": "code",
   "execution_count": 14,
   "metadata": {},
   "outputs": [
    {
     "name": "stdout",
     "output_type": "stream",
     "text": [
      "growing plants in water instead of soil\n"
     ]
    }
   ],
   "source": [
    "query_engine = index.as_query_engine()\n",
    "response = query_engine.query(\"What is hydroponics?\")\n",
    "print(str(response))"
   ]
  },
  {
   "cell_type": "markdown",
   "metadata": {},
   "source": [
    "## Trulens"
   ]
  },
  {
   "cell_type": "code",
   "execution_count": 15,
   "metadata": {},
   "outputs": [
    {
     "name": "stdout",
     "output_type": "stream",
     "text": [
      "🦑 Tru initialized with db url sqlite:///default.sqlite .\n",
      "🛑 Secret keys may be written to the database. See the `database_redact_keys` option of `Tru` to prevent this.\n"
     ]
    }
   ],
   "source": [
    "from trulens_eval import TruLlama, Tru\n",
    "\n",
    "l = TruLlama(query_engine)"
   ]
  },
  {
   "cell_type": "code",
   "execution_count": 16,
   "metadata": {},
   "outputs": [
    {
     "name": "stderr",
     "output_type": "stream",
     "text": [
      "Function <method-wrapper '__call__' of method object at 0x164088cc0> has not been instrumented. This may be ok if it will call a function that has been instrumented exactly once. Otherwise unexpected results may follow. You can use `AddInstruments.method` of `trulens_eval.instruments` before you use the `TruLlama` wrapper to make sure `__call__` does get instrumented. `TruLlama` method `print_instrumented` may be used to see methods that have been instrumented. \n"
     ]
    },
    {
     "name": "stdout",
     "output_type": "stream",
     "text": [
      "\n",
      "`query` will be deprecated soon; To record results of your app's execution, use one of these options to invoke your app:\n",
      "    (1) Use the `with_` method:\n",
      "        ```python\n",
      "        app # your app\n",
      "        tru_app_recorder: TruLlama = TruLlama(app, ...)\n",
      "        result = tru_app_recorder.with_(app.query, ...args/kwargs-to-app.query...)\n",
      "        ```\n",
      "    (2) Use TruLlama as a context manager: \n",
      "        ```python\n",
      "        app # your app\n",
      "        tru_app_recorder: TruLlama = TruLlama(app, ...)\n",
      "        with tru_app_recorder:\n",
      "            result = app.query(...args/kwargs-to-app.query...)\n",
      "        \n",
      "        ```\n",
      "\n",
      "\n",
      "`query_with_record` will be deprecated soon; To record results of your app's execution, use one of these options to invoke your app:\n",
      "    (1) Use the `with_record` method:\n",
      "        ```python\n",
      "        app # your app\n",
      "        tru_app_recorder: TruLlama = TruLlama(app, ...)\n",
      "        result, record = tru_app_recorder.with_record(app.query, ...args/kwargs-to-app.query...)\n",
      "        ```\n",
      "    (2) Use TruLlama as a context manager: \n",
      "        ```python\n",
      "        app # your app\n",
      "        tru_app_recorder: TruLlama = TruLlama(app, ...)\n",
      "        with tru_app_recorder as records:\n",
      "            result = app.query(...args/kwargs-to-app.query...)\n",
      "        record = records.get()\n",
      "        ```\n",
      "\n",
      "6-8 weeks\n"
     ]
    }
   ],
   "source": [
    "response = l.query(\"How long it will take for kale to harvest?\")\n",
    "print(response)"
   ]
  },
  {
   "cell_type": "code",
   "execution_count": 17,
   "metadata": {},
   "outputs": [
    {
     "name": "stdout",
     "output_type": "stream",
     "text": [
      "Starting dashboard ...\n"
     ]
    },
    {
     "data": {
      "application/vnd.jupyter.widget-view+json": {
       "model_id": "8103d9aef447465a8c14df55f4c0578c",
       "version_major": 2,
       "version_minor": 0
      },
      "text/plain": [
       "Accordion(children=(VBox(children=(VBox(children=(Label(value='STDOUT'), Output())), VBox(children=(Label(valu…"
      ]
     },
     "metadata": {},
     "output_type": "display_data"
    },
    {
     "name": "stdout",
     "output_type": "stream",
     "text": [
      "Dashboard started at http://192.168.0.4:8501 .\n"
     ]
    },
    {
     "data": {
      "text/plain": [
       "<Popen: returncode: None args: ['streamlit', 'run', '--server.headless=True'...>"
      ]
     },
     "execution_count": 17,
     "metadata": {},
     "output_type": "execute_result"
    }
   ],
   "source": [
    "tru = Tru()\n",
    "tru.run_dashboard()"
   ]
  },
  {
   "cell_type": "code",
   "execution_count": 19,
   "metadata": {},
   "outputs": [
    {
     "name": "stderr",
     "output_type": "stream",
     "text": [
      "Function <method-wrapper '__call__' of method object at 0x1651a6140> has not been instrumented. This may be ok if it will call a function that has been instrumented exactly once. Otherwise unexpected results may follow. You can use `AddInstruments.method` of `trulens_eval.instruments` before you use the `TruLlama` wrapper to make sure `__call__` does get instrumented. `TruLlama` method `print_instrumented` may be used to see methods that have been instrumented. \n"
     ]
    },
    {
     "name": "stdout",
     "output_type": "stream",
     "text": [
      "\n",
      "`query` will be deprecated soon; To record results of your app's execution, use one of these options to invoke your app:\n",
      "    (1) Use the `with_` method:\n",
      "        ```python\n",
      "        app # your app\n",
      "        tru_app_recorder: TruLlama = TruLlama(app, ...)\n",
      "        result = tru_app_recorder.with_(app.query, ...args/kwargs-to-app.query...)\n",
      "        ```\n",
      "    (2) Use TruLlama as a context manager: \n",
      "        ```python\n",
      "        app # your app\n",
      "        tru_app_recorder: TruLlama = TruLlama(app, ...)\n",
      "        with tru_app_recorder:\n",
      "            result = app.query(...args/kwargs-to-app.query...)\n",
      "        \n",
      "        ```\n",
      "\n",
      "\n",
      "`query_with_record` will be deprecated soon; To record results of your app's execution, use one of these options to invoke your app:\n",
      "    (1) Use the `with_record` method:\n",
      "        ```python\n",
      "        app # your app\n",
      "        tru_app_recorder: TruLlama = TruLlama(app, ...)\n",
      "        result, record = tru_app_recorder.with_record(app.query, ...args/kwargs-to-app.query...)\n",
      "        ```\n",
      "    (2) Use TruLlama as a context manager: \n",
      "        ```python\n",
      "        app # your app\n",
      "        tru_app_recorder: TruLlama = TruLlama(app, ...)\n",
      "        with tru_app_recorder as records:\n",
      "            result = app.query(...args/kwargs-to-app.query...)\n",
      "        record = records.get()\n",
      "        ```\n",
      "\n"
     ]
    },
    {
     "data": {
      "text/plain": [
       "Response(response='a method of growing plants in water instead of soil.', source_nodes=[NodeWithScore(node=TextNode(id_='968f6a70-5b27-4734-83a2-331712e59aa4', embedding=None, metadata={}, excluded_embed_metadata_keys=[], excluded_llm_metadata_keys=[], relationships={<NodeRelationship.SOURCE: '1'>: RelatedNodeInfo(node_id='38049149-6557-48d2-9fdb-a9eba2b72ecc', node_type=<ObjectType.DOCUMENT: '4'>, metadata={}, hash='1893e85335735985297311aad9239f9e05482b9f7b477e0ce41a854edfe16771'), <NodeRelationship.PREVIOUS: '2'>: RelatedNodeInfo(node_id='65ae1878-7eca-4845-a2ba-4237562747df', node_type=<ObjectType.TEXT: '1'>, metadata={}, hash='7d69d9169c2490728d8ce5a724194f78d8673942a2b9f739d1d3191cc1cdde40'), <NodeRelationship.NEXT: '3'>: RelatedNodeInfo(node_id='6445ddc2-0488-44ca-a520-17bde3c9a56f', node_type=<ObjectType.TEXT: '1'>, metadata={}, hash='31ed6c6e329e7d4dff353ec497c7ad0161eb436f9b95acbfd082bd8c413c1d24')}, hash='82ec6203b3414721fb569fd2582087b4064b6b0d3655e4ad0979d113ab8dd603', text='What is hydroponics?\\n\\nThe first lesson in hydroponics 101 starts with a definition. It is defined as growing plants without the use of traditional soil or soilless mixes. Instead, plants are put in a net pot or cup, and roots are suspended in a nutrient solution or just air. To be considered a hydroponic system, plants need to be either supported by an inert growing medium, or nothing at all. The only nutrients your plants get are what you feed them - directly at the root zone. The ready availability of nutrients to the root zone is what leads to such impressive growth and yields with hydroponics.', start_char_idx=2, end_char_idx=606, text_template='{metadata_str}\\n\\n{content}', metadata_template='{key}: {value}', metadata_seperator='\\n'), score=0.8027339115214704), NodeWithScore(node=TextNode(id_='0577efb3-481d-4ba0-9b33-4e5ba33e363a', embedding=None, metadata={}, excluded_embed_metadata_keys=[], excluded_llm_metadata_keys=[], relationships={<NodeRelationship.SOURCE: '1'>: RelatedNodeInfo(node_id='c1624cf6-bda8-4f6a-9460-64133f947ed5', node_type=<ObjectType.DOCUMENT: '4'>, metadata={}, hash='ee2c879d1d19a34efbbf5a79afe9c539e2addb974f0b01caf055d3f4922eb072'), <NodeRelationship.PREVIOUS: '2'>: RelatedNodeInfo(node_id='60f08126-ca97-4647-adf9-cb572c60d617', node_type=<ObjectType.TEXT: '1'>, metadata={}, hash='b3c4dc23dd4244dd31a6403bffc83f247047489e57acd18cd119d6b9fa116a83'), <NodeRelationship.NEXT: '3'>: RelatedNodeInfo(node_id='a301a5ea-d131-4301-a8ad-b07099b84704', node_type=<ObjectType.TEXT: '1'>, metadata={}, hash='658bb3d4a0f1923f34bad7c7953f8c2462882e45483b4041a0043b3530cbc44e')}, hash='30558e8d93166320e30c996dffffa96ef943d65853fa3178f56bdafc177b73d8', text='What is Hydroponics\\nHydroponics is a method of growing plants in water instead of soil. This can be done indoors or outdoors, and it can be used to grow a variety of different plants, including fruits, vegetables, and herbs.\\n\\nHydroponics is a sustainable method of growing plants that can help to improve food security and reduce the environmental impact of agriculture.\\n\\nOne of the main benefits of hydroponics is that it can be more efficient than traditional soil-based farming. This is because hydroponic systems can be more precisely controlled, which allows for better use of water and nutrients. In addition, hydroponic systems can be used to grow plants in areas where soil is not suitable for farming, such as in urban areas or in arid climates.\\n\\nHydroponics can also be used to grow plants year-round, which is not possible with traditional soil-based farming. This is because hydroponic systems can be controlled to provide the ideal growing conditions for plants, regardless of the time of year.\\n\\nAnother benefit of hydroponics is that it can reduce the amount of water and nutrients used to grow plants. This is because hydroponic systems recycle water and nutrients, which reduces the amount of waste produced. In addition, hydroponic systems can be used to grow plants with less water and nutrients than traditional soil-based farming methods.\\n\\nFinally, hydroponics can help to reduce the amount of pollution produced by traditional farming methods. This is because hydroponic systems do not require the use of pesticides or herbicides, which can pollute the environment. In addition, hydroponic systems can be located close to urban areas, which reduces the need to transport food long distances.\\n\\nOverall, hydroponics is a sustainable method of growing plants that can help to improve food security and reduce the environmental impact of agriculture.', start_char_idx=2, end_char_idx=1869, text_template='{metadata_str}\\n\\n{content}', metadata_template='{key}: {value}', metadata_seperator='\\n'), score=0.7913258005896632)], metadata={'968f6a70-5b27-4734-83a2-331712e59aa4': {}, '0577efb3-481d-4ba0-9b33-4e5ba33e363a': {}})"
      ]
     },
     "execution_count": 19,
     "metadata": {},
     "output_type": "execute_result"
    }
   ],
   "source": [
    "l.query(\"What is hydroponics?\")"
   ]
  },
  {
   "cell_type": "code",
   "execution_count": 20,
   "metadata": {},
   "outputs": [
    {
     "name": "stderr",
     "output_type": "stream",
     "text": [
      "Function <method-wrapper '__call__' of method object at 0x16597a780> has not been instrumented. This may be ok if it will call a function that has been instrumented exactly once. Otherwise unexpected results may follow. You can use `AddInstruments.method` of `trulens_eval.instruments` before you use the `TruLlama` wrapper to make sure `__call__` does get instrumented. `TruLlama` method `print_instrumented` may be used to see methods that have been instrumented. \n"
     ]
    },
    {
     "name": "stdout",
     "output_type": "stream",
     "text": [
      "\n",
      "`query` will be deprecated soon; To record results of your app's execution, use one of these options to invoke your app:\n",
      "    (1) Use the `with_` method:\n",
      "        ```python\n",
      "        app # your app\n",
      "        tru_app_recorder: TruLlama = TruLlama(app, ...)\n",
      "        result = tru_app_recorder.with_(app.query, ...args/kwargs-to-app.query...)\n",
      "        ```\n",
      "    (2) Use TruLlama as a context manager: \n",
      "        ```python\n",
      "        app # your app\n",
      "        tru_app_recorder: TruLlama = TruLlama(app, ...)\n",
      "        with tru_app_recorder:\n",
      "            result = app.query(...args/kwargs-to-app.query...)\n",
      "        \n",
      "        ```\n",
      "\n",
      "\n",
      "`query_with_record` will be deprecated soon; To record results of your app's execution, use one of these options to invoke your app:\n",
      "    (1) Use the `with_record` method:\n",
      "        ```python\n",
      "        app # your app\n",
      "        tru_app_recorder: TruLlama = TruLlama(app, ...)\n",
      "        result, record = tru_app_recorder.with_record(app.query, ...args/kwargs-to-app.query...)\n",
      "        ```\n",
      "    (2) Use TruLlama as a context manager: \n",
      "        ```python\n",
      "        app # your app\n",
      "        tru_app_recorder: TruLlama = TruLlama(app, ...)\n",
      "        with tru_app_recorder as records:\n",
      "            result = app.query(...args/kwargs-to-app.query...)\n",
      "        record = records.get()\n",
      "        ```\n",
      "\n"
     ]
    },
    {
     "data": {
      "text/plain": [
       "Response(response='Aquaponics is a method of combining aquaculture (raising fish) with hydroponics (growing plants without soil). This can be done in a variety of ways, but the most common system is to use a tank of fish to provide nutrients for the plants, and the plants to filter the water for the fish.\\n\\nAquaponics is a sustainable method of food production that can be used to grow a variety of different crops, including fruits, vegetables, and herbs. It is also a more efficient use of water than traditional farming methods, and it can help to reduce the amount of pollution produced.\\n\\nOne of the main benefits of aquaponics is that it can be used in a variety of different settings, including urban areas and greenhouses. This makes it a viable option for people who do not have access to traditional farming land.\\n\\nAquaponics is also a relatively easy method of food production to get started with, and it can be a fun and rewarding hobby.', source_nodes=[NodeWithScore(node=TextNode(id_='0577efb3-481d-4ba0-9b33-4e5ba33e363a', embedding=None, metadata={}, excluded_embed_metadata_keys=[], excluded_llm_metadata_keys=[], relationships={<NodeRelationship.SOURCE: '1'>: RelatedNodeInfo(node_id='c1624cf6-bda8-4f6a-9460-64133f947ed5', node_type=<ObjectType.DOCUMENT: '4'>, metadata={}, hash='ee2c879d1d19a34efbbf5a79afe9c539e2addb974f0b01caf055d3f4922eb072'), <NodeRelationship.PREVIOUS: '2'>: RelatedNodeInfo(node_id='60f08126-ca97-4647-adf9-cb572c60d617', node_type=<ObjectType.TEXT: '1'>, metadata={}, hash='b3c4dc23dd4244dd31a6403bffc83f247047489e57acd18cd119d6b9fa116a83'), <NodeRelationship.NEXT: '3'>: RelatedNodeInfo(node_id='a301a5ea-d131-4301-a8ad-b07099b84704', node_type=<ObjectType.TEXT: '1'>, metadata={}, hash='658bb3d4a0f1923f34bad7c7953f8c2462882e45483b4041a0043b3530cbc44e')}, hash='30558e8d93166320e30c996dffffa96ef943d65853fa3178f56bdafc177b73d8', text='What is Hydroponics\\nHydroponics is a method of growing plants in water instead of soil. This can be done indoors or outdoors, and it can be used to grow a variety of different plants, including fruits, vegetables, and herbs.\\n\\nHydroponics is a sustainable method of growing plants that can help to improve food security and reduce the environmental impact of agriculture.\\n\\nOne of the main benefits of hydroponics is that it can be more efficient than traditional soil-based farming. This is because hydroponic systems can be more precisely controlled, which allows for better use of water and nutrients. In addition, hydroponic systems can be used to grow plants in areas where soil is not suitable for farming, such as in urban areas or in arid climates.\\n\\nHydroponics can also be used to grow plants year-round, which is not possible with traditional soil-based farming. This is because hydroponic systems can be controlled to provide the ideal growing conditions for plants, regardless of the time of year.\\n\\nAnother benefit of hydroponics is that it can reduce the amount of water and nutrients used to grow plants. This is because hydroponic systems recycle water and nutrients, which reduces the amount of waste produced. In addition, hydroponic systems can be used to grow plants with less water and nutrients than traditional soil-based farming methods.\\n\\nFinally, hydroponics can help to reduce the amount of pollution produced by traditional farming methods. This is because hydroponic systems do not require the use of pesticides or herbicides, which can pollute the environment. In addition, hydroponic systems can be located close to urban areas, which reduces the need to transport food long distances.\\n\\nOverall, hydroponics is a sustainable method of growing plants that can help to improve food security and reduce the environmental impact of agriculture.', start_char_idx=2, end_char_idx=1869, text_template='{metadata_str}\\n\\n{content}', metadata_template='{key}: {value}', metadata_seperator='\\n'), score=0.7599942789423781), NodeWithScore(node=TextNode(id_='968f6a70-5b27-4734-83a2-331712e59aa4', embedding=None, metadata={}, excluded_embed_metadata_keys=[], excluded_llm_metadata_keys=[], relationships={<NodeRelationship.SOURCE: '1'>: RelatedNodeInfo(node_id='38049149-6557-48d2-9fdb-a9eba2b72ecc', node_type=<ObjectType.DOCUMENT: '4'>, metadata={}, hash='1893e85335735985297311aad9239f9e05482b9f7b477e0ce41a854edfe16771'), <NodeRelationship.PREVIOUS: '2'>: RelatedNodeInfo(node_id='65ae1878-7eca-4845-a2ba-4237562747df', node_type=<ObjectType.TEXT: '1'>, metadata={}, hash='7d69d9169c2490728d8ce5a724194f78d8673942a2b9f739d1d3191cc1cdde40'), <NodeRelationship.NEXT: '3'>: RelatedNodeInfo(node_id='6445ddc2-0488-44ca-a520-17bde3c9a56f', node_type=<ObjectType.TEXT: '1'>, metadata={}, hash='31ed6c6e329e7d4dff353ec497c7ad0161eb436f9b95acbfd082bd8c413c1d24')}, hash='82ec6203b3414721fb569fd2582087b4064b6b0d3655e4ad0979d113ab8dd603', text='What is hydroponics?\\n\\nThe first lesson in hydroponics 101 starts with a definition. It is defined as growing plants without the use of traditional soil or soilless mixes. Instead, plants are put in a net pot or cup, and roots are suspended in a nutrient solution or just air. To be considered a hydroponic system, plants need to be either supported by an inert growing medium, or nothing at all. The only nutrients your plants get are what you feed them - directly at the root zone. The ready availability of nutrients to the root zone is what leads to such impressive growth and yields with hydroponics.', start_char_idx=2, end_char_idx=606, text_template='{metadata_str}\\n\\n{content}', metadata_template='{key}: {value}', metadata_seperator='\\n'), score=0.7404320554771582)], metadata={'0577efb3-481d-4ba0-9b33-4e5ba33e363a': {}, '968f6a70-5b27-4734-83a2-331712e59aa4': {}})"
      ]
     },
     "execution_count": 20,
     "metadata": {},
     "output_type": "execute_result"
    }
   ],
   "source": [
    "l.query(\"What is aquaponics?\")"
   ]
  },
  {
   "cell_type": "markdown",
   "metadata": {},
   "source": [
    "## Trulens Compilation"
   ]
  },
  {
   "cell_type": "code",
   "execution_count": 21,
   "metadata": {},
   "outputs": [],
   "source": [
    "from trulens_eval import Feedback, Tru, TruLlama\n",
    "from trulens_eval.feedback import Groundedness\n",
    "from trulens_eval.feedback.provider.openai import OpenAI as OAI"
   ]
  },
  {
   "cell_type": "code",
   "execution_count": 22,
   "metadata": {},
   "outputs": [
    {
     "name": "stdout",
     "output_type": "stream",
     "text": [
      "✅ In groundedness_measure_with_cot_reasons, input source will be set to __record__.app.query.rets.source_nodes[:].node.text.collect() .\n",
      "✅ In groundedness_measure_with_cot_reasons, input statement will be set to __record__.main_output or `Select.RecordOutput` .\n",
      "✅ In relevance, input prompt will be set to __record__.main_input or `Select.RecordInput` .\n",
      "✅ In relevance, input response will be set to __record__.main_output or `Select.RecordOutput` .\n",
      "✅ In qs_relevance, input question will be set to __record__.main_input or `Select.RecordInput` .\n",
      "✅ In qs_relevance, input statement will be set to __record__.app.query.rets.source_nodes[:].node.text .\n",
      "Starting dashboard ...\n",
      "Config file already exists. Skipping writing process.\n",
      "Credentials file already exists. Skipping writing process.\n",
      "Dashboard already running at path:   Network URL: http://192.168.0.4:8501\n",
      "\n"
     ]
    },
    {
     "data": {
      "text/plain": [
       "<Popen: returncode: None args: ['streamlit', 'run', '--server.headless=True'...>"
      ]
     },
     "execution_count": 22,
     "metadata": {},
     "output_type": "execute_result"
    }
   ],
   "source": [
    "import numpy as np\n",
    "\n",
    "# Initialize provider class\n",
    "openai = OAI()\n",
    "\n",
    "grounded = Groundedness(groundedness_provider=OAI())\n",
    "\n",
    "# Define a groundedness feedback function\n",
    "f_groundedness = Feedback(grounded.groundedness_measure_with_cot_reasons).on(\n",
    "    TruLlama.select_source_nodes().node.text.collect()\n",
    "    ).on_output(\n",
    "    ).aggregate(grounded.grounded_statements_aggregator)\n",
    "\n",
    "# Question/answer relevance between overall question and answer.\n",
    "f_qa_relevance = Feedback(openai.relevance).on_input_output()\n",
    "\n",
    "# Question/statement relevance between question and each context chunk.\n",
    "f_qs_relevance = Feedback(openai.qs_relevance).on_input().on(\n",
    "    TruLlama.select_source_nodes().node.text\n",
    "    ).aggregate(np.mean)\n",
    "\n",
    "tru_query_engine_recorder = TruLlama(query_engine,\n",
    "    app_id='SHAi_App',\n",
    "    feedbacks=[f_groundedness, f_qa_relevance, f_qs_relevance])\n",
    "\n",
    "tru.run_dashboard()"
   ]
  },
  {
   "cell_type": "code",
   "execution_count": null,
   "metadata": {},
   "outputs": [],
   "source": [
    "with tru_query_engine_recorder as recording:\n",
    "    query_engine.query(\"How long will lettuce take to grow?\")"
   ]
  }
 ],
 "metadata": {
  "kernelspec": {
   "display_name": "base",
   "language": "python",
   "name": "python3"
  },
  "language_info": {
   "codemirror_mode": {
    "name": "ipython",
    "version": 3
   },
   "file_extension": ".py",
   "mimetype": "text/x-python",
   "name": "python",
   "nbconvert_exporter": "python",
   "pygments_lexer": "ipython3",
   "version": "3.11.5"
  }
 },
 "nbformat": 4,
 "nbformat_minor": 2
}
